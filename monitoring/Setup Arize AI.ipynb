{
 "cells": [
  {
   "cell_type": "markdown",
   "id": "ba624308",
   "metadata": {},
   "source": [
    "# Remark:\n",
    "This code needs to be runned once"
   ]
  },
  {
   "cell_type": "code",
   "execution_count": 1,
   "id": "8950105f",
   "metadata": {},
   "outputs": [],
   "source": [
    "import pandas as pd\n",
    "import seaborn as sns\n",
    "from imblearn.over_sampling import SMOTE\n",
    "from sklearn.linear_model import LogisticRegression\n",
    "from sklearn.metrics import confusion_matrix, classification_report\n",
    "from sklearn.ensemble import RandomForestClassifier\n",
    "from sklearn.metrics import precision_recall_fscore_support as score\n",
    "import mlflow\n",
    "import datetime\n",
    "import pickle\n",
    "import warnings\n",
    "import numpy as np\n",
    "from sklearn.model_selection import train_test_split\n",
    "from arize.pandas.logger import Client, Schema\n",
    "import datetime as dt\n",
    "from arize.utils.types import ModelTypes, Environments\n",
    "warnings.filterwarnings(\"ignore\")"
   ]
  },
  {
   "cell_type": "code",
   "execution_count": 2,
   "id": "a1de3735",
   "metadata": {},
   "outputs": [],
   "source": [
    "version = \"v2.0\"\n",
    "data_url = \"../data/fraud2.csv\""
   ]
  },
  {
   "cell_type": "code",
   "execution_count": 3,
   "id": "f0374ad6",
   "metadata": {},
   "outputs": [],
   "source": [
    "import sys  \n",
    "sys.path.insert(0, '../backend/src')\n",
    "\n",
    "import data_preprocessing_training\n",
    "import clean_data_json"
   ]
  },
  {
   "cell_type": "code",
   "execution_count": 11,
   "id": "5ec2749c",
   "metadata": {},
   "outputs": [],
   "source": [
    "from data_preprocessing_monitoring import transform_data\n",
    "from clean_data_json import clean_data_json"
   ]
  },
  {
   "cell_type": "code",
   "execution_count": 5,
   "id": "baf4891f",
   "metadata": {},
   "outputs": [],
   "source": [
    "from dotenv import load_dotenv\n",
    "import os\n",
    "load_dotenv(\"../backend/src/.env\")\n",
    "\n",
    "DagsHub_username = os.getenv(\"DagsHub_username\")\n",
    "DagsHub_token=os.getenv(\"DagsHub_token\")"
   ]
  },
  {
   "cell_type": "code",
   "execution_count": 6,
   "id": "8099df64",
   "metadata": {},
   "outputs": [],
   "source": [
    "import os\n",
    "os.environ['MLFLOW_TRACKING_USERNAME']= DagsHub_username\n",
    "os.environ[\"MLFLOW_TRACKING_PASSWORD\"] = DagsHub_token"
   ]
  },
  {
   "cell_type": "code",
   "execution_count": 7,
   "id": "61366b2e",
   "metadata": {},
   "outputs": [
    {
     "data": {
      "text/plain": [
       "<Experiment: artifact_location='mlflow-artifacts:/b26c3925d9344fc1958b2572d31493fa', creation_time=1716970855752, experiment_id='0', last_update_time=1716970855752, lifecycle_stage='active', name='fraud-detector-experiment', tags={}>"
      ]
     },
     "execution_count": 7,
     "metadata": {},
     "output_type": "execute_result"
    }
   ],
   "source": [
    "#setup mlflow\n",
    "mlflow.set_tracking_uri('https://dagshub.com/.../....mlflow') #your mlfow tracking uri\n",
    "mlflow.set_experiment(\"fraud-detector-experiment\")"
   ]
  },
  {
   "cell_type": "code",
   "execution_count": 8,
   "id": "8ab9910a",
   "metadata": {},
   "outputs": [],
   "source": [
    "#read the data\n",
    "raw_train = pd.read_csv(data_url)"
   ]
  },
  {
   "cell_type": "code",
   "execution_count": 12,
   "id": "942f7919",
   "metadata": {},
   "outputs": [
    {
     "data": {
      "text/html": [
       "<div>\n",
       "<style scoped>\n",
       "    .dataframe tbody tr th:only-of-type {\n",
       "        vertical-align: middle;\n",
       "    }\n",
       "\n",
       "    .dataframe tbody tr th {\n",
       "        vertical-align: top;\n",
       "    }\n",
       "\n",
       "    .dataframe thead th {\n",
       "        text-align: right;\n",
       "    }\n",
       "</style>\n",
       "<table border=\"1\" class=\"dataframe\">\n",
       "  <thead>\n",
       "    <tr style=\"text-align: right;\">\n",
       "      <th></th>\n",
       "      <th>Unnamed: 0</th>\n",
       "      <th>trans_date_trans_time</th>\n",
       "      <th>cc_num</th>\n",
       "      <th>merchant</th>\n",
       "      <th>category</th>\n",
       "      <th>amt</th>\n",
       "      <th>first</th>\n",
       "      <th>last</th>\n",
       "      <th>gender</th>\n",
       "      <th>street</th>\n",
       "      <th>...</th>\n",
       "      <th>lat</th>\n",
       "      <th>long</th>\n",
       "      <th>city_pop</th>\n",
       "      <th>job</th>\n",
       "      <th>dob</th>\n",
       "      <th>trans_num</th>\n",
       "      <th>unix_time</th>\n",
       "      <th>merch_lat</th>\n",
       "      <th>merch_long</th>\n",
       "      <th>is_fraud</th>\n",
       "    </tr>\n",
       "  </thead>\n",
       "  <tbody>\n",
       "    <tr>\n",
       "      <th>0</th>\n",
       "      <td>0</td>\n",
       "      <td>2019-01-01 00:00:18</td>\n",
       "      <td>2703186189652095</td>\n",
       "      <td>fraud_Rippin, Kub and Mann</td>\n",
       "      <td>misc_net</td>\n",
       "      <td>4.97</td>\n",
       "      <td>Jennifer</td>\n",
       "      <td>Banks</td>\n",
       "      <td>F</td>\n",
       "      <td>561 Perry Cove</td>\n",
       "      <td>...</td>\n",
       "      <td>36.0788</td>\n",
       "      <td>-81.1781</td>\n",
       "      <td>3495</td>\n",
       "      <td>Psychologist, counselling</td>\n",
       "      <td>1988-03-09</td>\n",
       "      <td>0b242abb623afc578575680df30655b9</td>\n",
       "      <td>1325376018</td>\n",
       "      <td>36.011293</td>\n",
       "      <td>-82.048315</td>\n",
       "      <td>0</td>\n",
       "    </tr>\n",
       "    <tr>\n",
       "      <th>1</th>\n",
       "      <td>1</td>\n",
       "      <td>2019-01-01 00:00:44</td>\n",
       "      <td>630423337322</td>\n",
       "      <td>fraud_Heller, Gutmann and Zieme</td>\n",
       "      <td>grocery_pos</td>\n",
       "      <td>107.23</td>\n",
       "      <td>Stephanie</td>\n",
       "      <td>Gill</td>\n",
       "      <td>F</td>\n",
       "      <td>43039 Riley Greens Suite 393</td>\n",
       "      <td>...</td>\n",
       "      <td>48.8878</td>\n",
       "      <td>-118.2105</td>\n",
       "      <td>149</td>\n",
       "      <td>Special educational needs teacher</td>\n",
       "      <td>1978-06-21</td>\n",
       "      <td>1f76529f8574734946361c461b024d99</td>\n",
       "      <td>1325376044</td>\n",
       "      <td>49.159047</td>\n",
       "      <td>-118.186462</td>\n",
       "      <td>0</td>\n",
       "    </tr>\n",
       "    <tr>\n",
       "      <th>2</th>\n",
       "      <td>2</td>\n",
       "      <td>2019-01-01 00:00:51</td>\n",
       "      <td>38859492057661</td>\n",
       "      <td>fraud_Lind-Buckridge</td>\n",
       "      <td>entertainment</td>\n",
       "      <td>220.11</td>\n",
       "      <td>Edward</td>\n",
       "      <td>Sanchez</td>\n",
       "      <td>M</td>\n",
       "      <td>594 White Dale Suite 530</td>\n",
       "      <td>...</td>\n",
       "      <td>42.1808</td>\n",
       "      <td>-112.2620</td>\n",
       "      <td>4154</td>\n",
       "      <td>Nature conservation officer</td>\n",
       "      <td>1962-01-19</td>\n",
       "      <td>a1a22d70485983eac12b5b88dad1cf95</td>\n",
       "      <td>1325376051</td>\n",
       "      <td>43.150704</td>\n",
       "      <td>-112.154481</td>\n",
       "      <td>0</td>\n",
       "    </tr>\n",
       "  </tbody>\n",
       "</table>\n",
       "<p>3 rows × 23 columns</p>\n",
       "</div>"
      ],
      "text/plain": [
       "   Unnamed: 0 trans_date_trans_time            cc_num  \\\n",
       "0           0   2019-01-01 00:00:18  2703186189652095   \n",
       "1           1   2019-01-01 00:00:44      630423337322   \n",
       "2           2   2019-01-01 00:00:51    38859492057661   \n",
       "\n",
       "                          merchant       category     amt      first     last  \\\n",
       "0       fraud_Rippin, Kub and Mann       misc_net    4.97   Jennifer    Banks   \n",
       "1  fraud_Heller, Gutmann and Zieme    grocery_pos  107.23  Stephanie     Gill   \n",
       "2             fraud_Lind-Buckridge  entertainment  220.11     Edward  Sanchez   \n",
       "\n",
       "  gender                        street  ...      lat      long  city_pop  \\\n",
       "0      F                561 Perry Cove  ...  36.0788  -81.1781      3495   \n",
       "1      F  43039 Riley Greens Suite 393  ...  48.8878 -118.2105       149   \n",
       "2      M      594 White Dale Suite 530  ...  42.1808 -112.2620      4154   \n",
       "\n",
       "                                 job         dob  \\\n",
       "0          Psychologist, counselling  1988-03-09   \n",
       "1  Special educational needs teacher  1978-06-21   \n",
       "2        Nature conservation officer  1962-01-19   \n",
       "\n",
       "                          trans_num   unix_time  merch_lat  merch_long  \\\n",
       "0  0b242abb623afc578575680df30655b9  1325376018  36.011293  -82.048315   \n",
       "1  1f76529f8574734946361c461b024d99  1325376044  49.159047 -118.186462   \n",
       "2  a1a22d70485983eac12b5b88dad1cf95  1325376051  43.150704 -112.154481   \n",
       "\n",
       "   is_fraud  \n",
       "0         0  \n",
       "1         0  \n",
       "2         0  \n",
       "\n",
       "[3 rows x 23 columns]"
      ]
     },
     "execution_count": 12,
     "metadata": {},
     "output_type": "execute_result"
    }
   ],
   "source": [
    "raw_train.head(3)"
   ]
  },
  {
   "cell_type": "code",
   "execution_count": 13,
   "id": "546b8456",
   "metadata": {},
   "outputs": [],
   "source": [
    "#cleaning and preprocessing\n",
    "X,y = transform_data(raw_train)"
   ]
  },
  {
   "cell_type": "code",
   "execution_count": 15,
   "id": "678ef459",
   "metadata": {},
   "outputs": [
    {
     "data": {
      "application/vnd.jupyter.widget-view+json": {
       "model_id": "7cd13e5a708c4da09c0d9138b3dc5fce",
       "version_major": 2,
       "version_minor": 0
      },
      "text/plain": [
       "Downloading artifacts:   0%|          | 0/9 [00:00<?, ?it/s]"
      ]
     },
     "metadata": {},
     "output_type": "display_data"
    },
    {
     "name": "stdout",
     "output_type": "stream",
     "text": [
      "mlflow.pyfunc.loaded_model:\n",
      "  artifact_path: ML_models\n",
      "  flavor: mlflow.xgboost\n",
      "  run_id: e14ad66e453643a780dee296c0ae421c\n",
      "\n"
     ]
    }
   ],
   "source": [
    "#Reading Pandas Dataframe from mlflow\n",
    "all_experiments = [exp.experiment_id for exp in mlflow.search_experiments()]\n",
    "df_mlflow = mlflow.search_runs(experiment_ids=all_experiments,filter_string=\"metrics.F1_score_test <1\")\n",
    "run_id = df_mlflow.loc[df_mlflow['metrics.F1_score_test'].idxmax()]['run_id']\n",
    "\n",
    "#let's call the model from the model registry ( in production stage)\n",
    "import mlflow.pyfunc\n",
    "\n",
    "logged_model = f'runs:/{run_id}/ML_models'\n",
    "\n",
    "# Load model as a PyFuncModel.\n",
    "loaded_model = mlflow.pyfunc.load_model(logged_model)\n",
    "print(loaded_model)"
   ]
  },
  {
   "cell_type": "markdown",
   "id": "522615a0",
   "metadata": {},
   "source": [
    "## Transform the training data before sending it to Arize AI :"
   ]
  },
  {
   "cell_type": "code",
   "execution_count": 16,
   "id": "8705fd74",
   "metadata": {},
   "outputs": [],
   "source": [
    "selected_cols = ['category','amt', 'gender', 'zip', 'lat', 'long', 'dob', 'merch_lat', 'merch_long',\"trans_date_trans_time\" , 'is_fraud']"
   ]
  },
  {
   "cell_type": "code",
   "execution_count": 17,
   "id": "3af7987e",
   "metadata": {},
   "outputs": [],
   "source": [
    "baseline = raw_train[selected_cols]"
   ]
  },
  {
   "cell_type": "code",
   "execution_count": 20,
   "id": "f24c37de",
   "metadata": {},
   "outputs": [],
   "source": [
    "baseline[\"trans_date_trans_time\"] = pd.to_datetime(baseline[\"trans_date_trans_time\"])"
   ]
  },
  {
   "cell_type": "code",
   "execution_count": 21,
   "id": "4e2020b2",
   "metadata": {},
   "outputs": [],
   "source": [
    "\n",
    "# Extract age of card holder column\n",
    "baseline['age'] = dt.date.today().year - pd.to_datetime(baseline['dob']).dt.year\n",
    "# drop unusefull columns\n",
    "baseline.drop([\"dob\"], axis=1, inplace=True)"
   ]
  },
  {
   "cell_type": "code",
   "execution_count": 22,
   "id": "edcdef37",
   "metadata": {},
   "outputs": [],
   "source": [
    "\n",
    "# create new columns day,month,year\n",
    "baseline[\"year\"] = baseline[\"trans_date_trans_time\"].dt.year\n",
    "baseline[\"month\"] = baseline[\"trans_date_trans_time\"].dt.month\n",
    "baseline[\"day\"] = baseline[\"trans_date_trans_time\"].dt.day\n",
    "# Extract hour,minute and second\n",
    "baseline[\"hour\"] = baseline[\"trans_date_trans_time\"].dt.hour\n",
    "baseline[\"month\"] = baseline[\"trans_date_trans_time\"].dt.month\n",
    "baseline[\"sec\"] = baseline[\"trans_date_trans_time\"].dt.second"
   ]
  },
  {
   "cell_type": "code",
   "execution_count": 23,
   "id": "e99f6a42",
   "metadata": {},
   "outputs": [],
   "source": [
    "baseline.drop([\"trans_date_trans_time\"], axis=1, inplace=True)"
   ]
  },
  {
   "cell_type": "code",
   "execution_count": 24,
   "id": "daf34cdf",
   "metadata": {},
   "outputs": [],
   "source": [
    "baseline.rename(columns = {'is_fraud':'actual_label'}, inplace = True)"
   ]
  },
  {
   "cell_type": "code",
   "execution_count": 32,
   "id": "17124061",
   "metadata": {},
   "outputs": [],
   "source": [
    "transform_bin_str = { 0 : 'non_fraud', 1 : 'fraud'}\n",
    "baseline['actual_label'] = baseline['actual_label'].map(transform_bin_str)"
   ]
  },
  {
   "cell_type": "code",
   "execution_count": 18,
   "id": "f8e14e30",
   "metadata": {},
   "outputs": [],
   "source": [
    "preds = loaded_model.predict(X)"
   ]
  },
  {
   "cell_type": "code",
   "execution_count": 26,
   "id": "5275e21c",
   "metadata": {},
   "outputs": [],
   "source": [
    "baseline['prediction_label'] = preds"
   ]
  },
  {
   "cell_type": "code",
   "execution_count": 33,
   "id": "1a83420c",
   "metadata": {},
   "outputs": [],
   "source": [
    "baseline['prediction_label'] = baseline['prediction_label'].map(transform_bin_str)"
   ]
  },
  {
   "cell_type": "code",
   "execution_count": 27,
   "id": "3cbc74ab",
   "metadata": {},
   "outputs": [],
   "source": [
    "import uuid\n",
    "# Prediction ID is required for all datasets\n",
    "def generate_prediction_ids(X):\n",
    "    return pd.Series((str(uuid.uuid4()) for _ in range(len(X))), index=X.index)"
   ]
  },
  {
   "cell_type": "code",
   "execution_count": 28,
   "id": "6ab46118",
   "metadata": {},
   "outputs": [],
   "source": [
    "baseline[\"prediction_id\"]=generate_prediction_ids(baseline)"
   ]
  },
  {
   "cell_type": "code",
   "execution_count": 34,
   "id": "d4bf236c",
   "metadata": {},
   "outputs": [
    {
     "data": {
      "text/html": [
       "<div>\n",
       "<style scoped>\n",
       "    .dataframe tbody tr th:only-of-type {\n",
       "        vertical-align: middle;\n",
       "    }\n",
       "\n",
       "    .dataframe tbody tr th {\n",
       "        vertical-align: top;\n",
       "    }\n",
       "\n",
       "    .dataframe thead th {\n",
       "        text-align: right;\n",
       "    }\n",
       "</style>\n",
       "<table border=\"1\" class=\"dataframe\">\n",
       "  <thead>\n",
       "    <tr style=\"text-align: right;\">\n",
       "      <th></th>\n",
       "      <th>category</th>\n",
       "      <th>amt</th>\n",
       "      <th>gender</th>\n",
       "      <th>zip</th>\n",
       "      <th>lat</th>\n",
       "      <th>long</th>\n",
       "      <th>merch_lat</th>\n",
       "      <th>merch_long</th>\n",
       "      <th>actual_label</th>\n",
       "      <th>age</th>\n",
       "      <th>year</th>\n",
       "      <th>month</th>\n",
       "      <th>day</th>\n",
       "      <th>hour</th>\n",
       "      <th>sec</th>\n",
       "      <th>prediction_label</th>\n",
       "      <th>prediction_id</th>\n",
       "    </tr>\n",
       "  </thead>\n",
       "  <tbody>\n",
       "    <tr>\n",
       "      <th>0</th>\n",
       "      <td>misc_net</td>\n",
       "      <td>4.97</td>\n",
       "      <td>F</td>\n",
       "      <td>28654</td>\n",
       "      <td>36.0788</td>\n",
       "      <td>-81.1781</td>\n",
       "      <td>36.011293</td>\n",
       "      <td>-82.048315</td>\n",
       "      <td>non_fraud</td>\n",
       "      <td>36</td>\n",
       "      <td>2019</td>\n",
       "      <td>1</td>\n",
       "      <td>1</td>\n",
       "      <td>0</td>\n",
       "      <td>18</td>\n",
       "      <td>non_fraud</td>\n",
       "      <td>b638c4f4-d612-43c2-9b94-6c8af634c44c</td>\n",
       "    </tr>\n",
       "    <tr>\n",
       "      <th>1</th>\n",
       "      <td>grocery_pos</td>\n",
       "      <td>107.23</td>\n",
       "      <td>F</td>\n",
       "      <td>99160</td>\n",
       "      <td>48.8878</td>\n",
       "      <td>-118.2105</td>\n",
       "      <td>49.159047</td>\n",
       "      <td>-118.186462</td>\n",
       "      <td>non_fraud</td>\n",
       "      <td>46</td>\n",
       "      <td>2019</td>\n",
       "      <td>1</td>\n",
       "      <td>1</td>\n",
       "      <td>0</td>\n",
       "      <td>44</td>\n",
       "      <td>non_fraud</td>\n",
       "      <td>cc50ea0f-d36e-43cd-9d7f-abd4f957a648</td>\n",
       "    </tr>\n",
       "    <tr>\n",
       "      <th>2</th>\n",
       "      <td>entertainment</td>\n",
       "      <td>220.11</td>\n",
       "      <td>M</td>\n",
       "      <td>83252</td>\n",
       "      <td>42.1808</td>\n",
       "      <td>-112.2620</td>\n",
       "      <td>43.150704</td>\n",
       "      <td>-112.154481</td>\n",
       "      <td>non_fraud</td>\n",
       "      <td>62</td>\n",
       "      <td>2019</td>\n",
       "      <td>1</td>\n",
       "      <td>1</td>\n",
       "      <td>0</td>\n",
       "      <td>51</td>\n",
       "      <td>non_fraud</td>\n",
       "      <td>37cd7fd3-67f3-4157-aa8a-b6668060f932</td>\n",
       "    </tr>\n",
       "  </tbody>\n",
       "</table>\n",
       "</div>"
      ],
      "text/plain": [
       "        category     amt gender    zip      lat      long  merch_lat  \\\n",
       "0       misc_net    4.97      F  28654  36.0788  -81.1781  36.011293   \n",
       "1    grocery_pos  107.23      F  99160  48.8878 -118.2105  49.159047   \n",
       "2  entertainment  220.11      M  83252  42.1808 -112.2620  43.150704   \n",
       "\n",
       "   merch_long actual_label  age  year  month  day  hour  sec prediction_label  \\\n",
       "0  -82.048315    non_fraud   36  2019      1    1     0   18        non_fraud   \n",
       "1 -118.186462    non_fraud   46  2019      1    1     0   44        non_fraud   \n",
       "2 -112.154481    non_fraud   62  2019      1    1     0   51        non_fraud   \n",
       "\n",
       "                          prediction_id  \n",
       "0  b638c4f4-d612-43c2-9b94-6c8af634c44c  \n",
       "1  cc50ea0f-d36e-43cd-9d7f-abd4f957a648  \n",
       "2  37cd7fd3-67f3-4157-aa8a-b6668060f932  "
      ]
     },
     "execution_count": 34,
     "metadata": {},
     "output_type": "execute_result"
    }
   ],
   "source": [
    "baseline.head(3)"
   ]
  },
  {
   "cell_type": "markdown",
   "id": "e426382c",
   "metadata": {},
   "source": [
    "## Setup Arize AI :"
   ]
  },
  {
   "cell_type": "code",
   "execution_count": 35,
   "id": "da12ae32",
   "metadata": {},
   "outputs": [
    {
     "name": "stdout",
     "output_type": "stream",
     "text": [
      "✅ Arize setup complete!\n"
     ]
    }
   ],
   "source": [
    "SPACE_KEY = \"...\"\n",
    "API_KEY = \"...\"\n",
    "\n",
    "arize_client = Client(space_key=SPACE_KEY, api_key=API_KEY)\n",
    "\n",
    "model_id = (\n",
    "    \"fraud-detector-model\"  # This is the model name that will show up in Arize\n",
    ")\n",
    "model_version = \"v2\"  # Version of model - can be any string\n",
    "\n",
    "if SPACE_KEY == \"SPACE_KEY\" or API_KEY == \"API_KEY\":\n",
    "    raise ValueError(\"❌ NEED TO CHANGE SPACE AND/OR API_KEY\")\n",
    "else:\n",
    "    print(\"✅ Arize setup complete!\")"
   ]
  },
  {
   "cell_type": "markdown",
   "id": "c295a96b",
   "metadata": {},
   "source": [
    "## Send train data to Arize AI :\n",
    "the training data will be the reference data later in production"
   ]
  },
  {
   "cell_type": "code",
   "execution_count": 36,
   "id": "c34b8cdf",
   "metadata": {},
   "outputs": [],
   "source": [
    "features = feature_column_names=list(baseline.columns.drop(\n",
    "        [\"prediction_id\", \"prediction_label\", \"actual_label\"]))"
   ]
  },
  {
   "cell_type": "code",
   "execution_count": 37,
   "id": "0e8618b4",
   "metadata": {},
   "outputs": [
    {
     "name": "stdout",
     "output_type": "stream",
     "text": [
      "\u001b[38;21m  arize.utils.logging | INFO | Success! Check out your data at https://app.arize.com/organizations/QWNjb3VudE9yZ2FuaXphdGlvbjo3MjgyOktFcHc=/spaces/U3BhY2U6NzY1Njp5eHY1/models/modelName/fraud-detector-model?selectedTab=dataIngestion\u001b[0m\n",
      "✅ You have successfully logged training set to Arize\n"
     ]
    }
   ],
   "source": [
    "# Define a Schema() object for Arize to pick up data from the correct columns for logging\n",
    "training_schema = Schema(\n",
    "    prediction_id_column_name=\"prediction_id\",\n",
    "    prediction_label_column_name=\"prediction_label\",\n",
    "    actual_label_column_name=\"actual_label\",\n",
    "    feature_column_names=features)\n",
    "\n",
    "# Logging Training DataFrame\n",
    "training_response = arize_client.log(\n",
    "    dataframe=baseline,\n",
    "    model_id=model_id,\n",
    "    model_version=model_version,\n",
    "    model_type=ModelTypes.SCORE_CATEGORICAL,\n",
    "    environment=Environments.TRAINING,\n",
    "    schema=training_schema,\n",
    ")\n",
    "\n",
    "# If successful, the server will return a status_code of 200\n",
    "if training_response.status_code != 200:\n",
    "    print(\n",
    "        f\"logging failed with response code {training_response.status_code}, {training_response.text}\"\n",
    "    )\n",
    "else:\n",
    "    print(f\"✅ You have successfully logged training set to Arize\")"
   ]
  }
 ],
 "metadata": {
  "kernelspec": {
   "display_name": "Python 3.9.13 ('mlops')",
   "language": "python",
   "name": "python3"
  },
  "language_info": {
   "codemirror_mode": {
    "name": "ipython",
    "version": 3
   },
   "file_extension": ".py",
   "mimetype": "text/x-python",
   "name": "python",
   "nbconvert_exporter": "python",
   "pygments_lexer": "ipython3",
   "version": "3.10.14"
  },
  "vscode": {
   "interpreter": {
    "hash": "f47cee5ce7f0e86d1697bc830ef64d3cfed3ed1d870feb222f972fa9d7058365"
   }
  }
 },
 "nbformat": 4,
 "nbformat_minor": 5
}
