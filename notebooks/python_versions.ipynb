{
 "cells": [
  {
   "cell_type": "code",
   "execution_count": 1,
   "metadata": {},
   "outputs": [
    {
     "name": "stdout",
     "output_type": "stream",
     "text": [
      "\n",
      "     active environment : mlops\n",
      "    active env location : /opt/anaconda3/envs/mlops\n",
      "            shell level : 2\n",
      "       user config file : /Users/MacBook/.condarc\n",
      " populated config files : /Users/MacBook/.condarc\n",
      "          conda version : 24.1.2\n",
      "    conda-build version : 24.1.2\n",
      "         python version : 3.11.8.final.0\n",
      "                 solver : libmamba (default)\n",
      "       virtual packages : __archspec=1=m2\n",
      "                          __conda=24.1.2=0\n",
      "                          __osx=14.1=0\n",
      "                          __unix=0=0\n",
      "       base environment : /opt/anaconda3  (writable)\n",
      "      conda av data dir : /opt/anaconda3/etc/conda\n",
      "  conda av metadata url : None\n",
      "           channel URLs : https://repo.anaconda.com/pkgs/main/osx-arm64\n",
      "                          https://repo.anaconda.com/pkgs/main/noarch\n",
      "                          https://repo.anaconda.com/pkgs/r/osx-arm64\n",
      "                          https://repo.anaconda.com/pkgs/r/noarch\n",
      "          package cache : /opt/anaconda3/pkgs\n",
      "                          /Users/MacBook/.conda/pkgs\n",
      "       envs directories : /opt/anaconda3/envs\n",
      "                          /Users/MacBook/.conda/envs\n",
      "               platform : osx-arm64\n",
      "             user-agent : conda/24.1.2 requests/2.31.0 CPython/3.11.8 Darwin/23.1.0 OSX/14.1 solver/libmamba conda-libmamba-solver/24.1.0 libmambapy/1.5.6 aau/0.4.3 c/uClPuLN3LSKQQxTIybaVQg s/5qOZv75eWseH5sXzsygVXQ e/NRaV1muy6v1DpOgFYclwUw\n",
      "                UID:GID : 501:20\n",
      "             netrc file : /Users/MacBook/.netrc\n",
      "           offline mode : False\n",
      "\n",
      "\n"
     ]
    }
   ],
   "source": [
    "!conda info"
   ]
  },
  {
   "cell_type": "code",
   "execution_count": 2,
   "metadata": {},
   "outputs": [],
   "source": [
    "import matplotlib # Visualisation\n",
    "import numpy # Calcul Scientifique\n",
    "import pandas # DataFrames\n",
    "import sklearn # Modélisation & Preprocessing\n",
    "import seaborn # Visualisation statistique\n",
    "import imblearn # Unbalanced \n",
    "import xgboost # modèles de boosting\n",
    "import dvc # Data Version Control\n",
    "import fastapi # Web API\n",
    "import uvicorn # Serveur pour communiquer avec des frameworks web\n",
    "import deepchecks # Test data & models\n",
    "import pytest # Test unitaire\n",
    "import multipart # Traitement des requêtes HTTP dans les Web apps\n",
    "import streamlit # Framework frontend\n",
    "import mlflow # Gestion du cycle de vie des modèles ML\n",
    "import dotenv # Charger des variables d'environnement à partir de fichiers .env \n",
    "import psutil # Intéragir avec les processus systèmes"
   ]
  },
  {
   "cell_type": "code",
   "execution_count": 3,
   "metadata": {},
   "outputs": [
    {
     "name": "stdout",
     "output_type": "stream",
     "text": [
      "Matplotlib version 3.8.0\n",
      "Numpy version 1.26.4\n",
      "Pandas version 2.1.4\n",
      "Scikit Learn version 1.2.2\n",
      "Seaborn version 0.12.2\n",
      "Imblearn version 0.12.3\n",
      "Xgboost version 2.0.3\n",
      "DVC version 3.50.1\n",
      "FastAPI version 0.111.0\n",
      "Uvicorn version 0.29.0\n",
      "Deepchecks version 0.18.1\n",
      "Pytest version 7.4.0\n",
      "Python Multipart version 0.0.9\n",
      "Streamlit version 1.30.0\n",
      "MLflow version 2.12.1\n",
      "Psutil version 5.9.0\n"
     ]
    }
   ],
   "source": [
    "print(f'Matplotlib version {matplotlib.__version__}')\n",
    "print(f'Numpy version {numpy.__version__}')\n",
    "print(f'Pandas version {pandas.__version__}')\n",
    "print(f'Scikit Learn version {sklearn.__version__}')\n",
    "print(f'Seaborn version {seaborn.__version__}')\n",
    "print(f'Imblearn version {imblearn.__version__}')\n",
    "print(f'Xgboost version {xgboost.__version__}')\n",
    "print(f'DVC version {dvc.__version__}')\n",
    "print(f'FastAPI version {fastapi.__version__}')\n",
    "print(f'Uvicorn version {uvicorn.__version__}')\n",
    "print(f'Deepchecks version {deepchecks.__version__}')\n",
    "print(f'Pytest version {pytest.__version__}')\n",
    "print(f'Python Multipart version {multipart.__version__}')\n",
    "print(f'Streamlit version {streamlit.__version__}')\n",
    "print(f'MLflow version {mlflow.__version__}')\n",
    "print(f'Psutil version {psutil.__version__}')\n",
    "\n"
   ]
  },
  {
   "cell_type": "code",
   "execution_count": null,
   "metadata": {},
   "outputs": [],
   "source": []
  }
 ],
 "metadata": {
  "kernelspec": {
   "display_name": "base",
   "language": "python",
   "name": "python3"
  },
  "language_info": {
   "codemirror_mode": {
    "name": "ipython",
    "version": 3
   },
   "file_extension": ".py",
   "mimetype": "text/x-python",
   "name": "python",
   "nbconvert_exporter": "python",
   "pygments_lexer": "ipython3",
   "version": "3.10.14"
  }
 },
 "nbformat": 4,
 "nbformat_minor": 2
}
